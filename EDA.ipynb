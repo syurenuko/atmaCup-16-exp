{
 "cells": [
  {
   "cell_type": "code",
   "execution_count": 1,
   "metadata": {},
   "outputs": [],
   "source": [
    "import numpy as np\n",
    "import pandas as pd\n",
    "import polars as pl\n",
    "import matplotlib.pyplot as plt\n",
    "from itertools import combinations\n",
    "from tqdm import tqdm\n",
    "from concurrent.futures import ProcessPoolExecutor, as_completed"
   ]
  },
  {
   "cell_type": "code",
   "execution_count": 2,
   "metadata": {},
   "outputs": [],
   "source": [
    "train_log_df = pd.read_csv('train_log.csv')\n",
    "test_log_df = pd.read_csv('test_log.csv')\n",
    "train_label_df = pd.read_csv('train_label.csv')\n",
    "test_session_df = pd.read_csv('test_session.csv')\n",
    "yado_df = pd.read_csv('yado.csv')\n",
    "image_embeddings_df = pd.read_parquet('image_embeddings.parquet')"
   ]
  },
  {
   "cell_type": "code",
   "execution_count": 3,
   "metadata": {},
   "outputs": [
    {
     "data": {
      "text/html": [
       "<div>\n",
       "<style scoped>\n",
       "    .dataframe tbody tr th:only-of-type {\n",
       "        vertical-align: middle;\n",
       "    }\n",
       "\n",
       "    .dataframe tbody tr th {\n",
       "        vertical-align: top;\n",
       "    }\n",
       "\n",
       "    .dataframe thead th {\n",
       "        text-align: right;\n",
       "    }\n",
       "</style>\n",
       "<table border=\"1\" class=\"dataframe\">\n",
       "  <thead>\n",
       "    <tr style=\"text-align: right;\">\n",
       "      <th></th>\n",
       "      <th>session_id</th>\n",
       "      <th>seq_no</th>\n",
       "      <th>yad_no</th>\n",
       "      <th>yad_no_target</th>\n",
       "      <th>target</th>\n",
       "    </tr>\n",
       "  </thead>\n",
       "  <tbody>\n",
       "    <tr>\n",
       "      <th>0</th>\n",
       "      <td>000007603d533d30453cc45d0f3d119f</td>\n",
       "      <td>0</td>\n",
       "      <td>2395</td>\n",
       "      <td>4101</td>\n",
       "      <td>False</td>\n",
       "    </tr>\n",
       "    <tr>\n",
       "      <th>1</th>\n",
       "      <td>0000ca043ed437a1472c9d1d154eb49b</td>\n",
       "      <td>0</td>\n",
       "      <td>13535</td>\n",
       "      <td>8253</td>\n",
       "      <td>False</td>\n",
       "    </tr>\n",
       "    <tr>\n",
       "      <th>2</th>\n",
       "      <td>0000d4835cf113316fe447e2f80ba1c8</td>\n",
       "      <td>0</td>\n",
       "      <td>123</td>\n",
       "      <td>4863</td>\n",
       "      <td>False</td>\n",
       "    </tr>\n",
       "    <tr>\n",
       "      <th>3</th>\n",
       "      <td>0000fcda1ae1b2f431e55a7075d1f500</td>\n",
       "      <td>0</td>\n",
       "      <td>8475</td>\n",
       "      <td>1652</td>\n",
       "      <td>False</td>\n",
       "    </tr>\n",
       "    <tr>\n",
       "      <th>4</th>\n",
       "      <td>000104bdffaaad1a1e0a9ebacf585f33</td>\n",
       "      <td>0</td>\n",
       "      <td>96</td>\n",
       "      <td>96</td>\n",
       "      <td>True</td>\n",
       "    </tr>\n",
       "  </tbody>\n",
       "</table>\n",
       "</div>"
      ],
      "text/plain": [
       "                         session_id  seq_no  yad_no  yad_no_target  target\n",
       "0  000007603d533d30453cc45d0f3d119f       0    2395           4101   False\n",
       "1  0000ca043ed437a1472c9d1d154eb49b       0   13535           8253   False\n",
       "2  0000d4835cf113316fe447e2f80ba1c8       0     123           4863   False\n",
       "3  0000fcda1ae1b2f431e55a7075d1f500       0    8475           1652   False\n",
       "4  000104bdffaaad1a1e0a9ebacf585f33       0      96             96    True"
      ]
     },
     "metadata": {},
     "output_type": "display_data"
    }
   ],
   "source": [
    "# train_logとtrain_labelを結合して正解かどうかを確認する\n",
    "train_log_df = train_log_df.merge(train_label_df, on=\"session_id\", how=\"left\", suffixes=[\"\", \"_target\"])\n",
    "train_log_df[\"target\"] = train_log_df[\"yad_no\"] == train_log_df[\"yad_no_target\"]\n",
    "display(train_log_df.head())"
   ]
  },
  {
   "cell_type": "code",
   "execution_count": 4,
   "metadata": {},
   "outputs": [
    {
     "data": {
      "text/html": [
       "<div>\n",
       "<style scoped>\n",
       "    .dataframe tbody tr th:only-of-type {\n",
       "        vertical-align: middle;\n",
       "    }\n",
       "\n",
       "    .dataframe tbody tr th {\n",
       "        vertical-align: top;\n",
       "    }\n",
       "\n",
       "    .dataframe thead th {\n",
       "        text-align: right;\n",
       "    }\n",
       "</style>\n",
       "<table border=\"1\" class=\"dataframe\">\n",
       "  <thead>\n",
       "    <tr style=\"text-align: right;\">\n",
       "      <th></th>\n",
       "      <th>session_id</th>\n",
       "      <th>seq_no</th>\n",
       "      <th>yad_no</th>\n",
       "      <th>yad_no_target</th>\n",
       "      <th>target</th>\n",
       "      <th>max_seq_no</th>\n",
       "    </tr>\n",
       "  </thead>\n",
       "  <tbody>\n",
       "    <tr>\n",
       "      <th>0</th>\n",
       "      <td>000007603d533d30453cc45d0f3d119f</td>\n",
       "      <td>0</td>\n",
       "      <td>2395</td>\n",
       "      <td>4101</td>\n",
       "      <td>False</td>\n",
       "      <td>0</td>\n",
       "    </tr>\n",
       "    <tr>\n",
       "      <th>1</th>\n",
       "      <td>0000ca043ed437a1472c9d1d154eb49b</td>\n",
       "      <td>0</td>\n",
       "      <td>13535</td>\n",
       "      <td>8253</td>\n",
       "      <td>False</td>\n",
       "      <td>0</td>\n",
       "    </tr>\n",
       "    <tr>\n",
       "      <th>2</th>\n",
       "      <td>0000d4835cf113316fe447e2f80ba1c8</td>\n",
       "      <td>0</td>\n",
       "      <td>123</td>\n",
       "      <td>4863</td>\n",
       "      <td>False</td>\n",
       "      <td>0</td>\n",
       "    </tr>\n",
       "    <tr>\n",
       "      <th>3</th>\n",
       "      <td>0000fcda1ae1b2f431e55a7075d1f500</td>\n",
       "      <td>0</td>\n",
       "      <td>8475</td>\n",
       "      <td>1652</td>\n",
       "      <td>False</td>\n",
       "      <td>0</td>\n",
       "    </tr>\n",
       "    <tr>\n",
       "      <th>4</th>\n",
       "      <td>000104bdffaaad1a1e0a9ebacf585f33</td>\n",
       "      <td>0</td>\n",
       "      <td>96</td>\n",
       "      <td>96</td>\n",
       "      <td>True</td>\n",
       "      <td>1</td>\n",
       "    </tr>\n",
       "    <tr>\n",
       "      <th>...</th>\n",
       "      <td>...</td>\n",
       "      <td>...</td>\n",
       "      <td>...</td>\n",
       "      <td>...</td>\n",
       "      <td>...</td>\n",
       "      <td>...</td>\n",
       "    </tr>\n",
       "    <tr>\n",
       "      <th>419265</th>\n",
       "      <td>ffffcd5bc19d62cad5a3815c87818d83</td>\n",
       "      <td>0</td>\n",
       "      <td>12230</td>\n",
       "      <td>10619</td>\n",
       "      <td>False</td>\n",
       "      <td>2</td>\n",
       "    </tr>\n",
       "    <tr>\n",
       "      <th>419266</th>\n",
       "      <td>ffffcd5bc19d62cad5a3815c87818d83</td>\n",
       "      <td>1</td>\n",
       "      <td>10619</td>\n",
       "      <td>10619</td>\n",
       "      <td>True</td>\n",
       "      <td>2</td>\n",
       "    </tr>\n",
       "    <tr>\n",
       "      <th>419267</th>\n",
       "      <td>ffffcd5bc19d62cad5a3815c87818d83</td>\n",
       "      <td>2</td>\n",
       "      <td>12230</td>\n",
       "      <td>10619</td>\n",
       "      <td>False</td>\n",
       "      <td>2</td>\n",
       "    </tr>\n",
       "    <tr>\n",
       "      <th>419268</th>\n",
       "      <td>fffffa7baf370083ebcdd98f26a7e31a</td>\n",
       "      <td>0</td>\n",
       "      <td>2439</td>\n",
       "      <td>2439</td>\n",
       "      <td>True</td>\n",
       "      <td>1</td>\n",
       "    </tr>\n",
       "    <tr>\n",
       "      <th>419269</th>\n",
       "      <td>fffffa7baf370083ebcdd98f26a7e31a</td>\n",
       "      <td>1</td>\n",
       "      <td>11822</td>\n",
       "      <td>2439</td>\n",
       "      <td>False</td>\n",
       "      <td>1</td>\n",
       "    </tr>\n",
       "  </tbody>\n",
       "</table>\n",
       "<p>419270 rows × 6 columns</p>\n",
       "</div>"
      ],
      "text/plain": [
       "                              session_id  seq_no  yad_no  yad_no_target  \\\n",
       "0       000007603d533d30453cc45d0f3d119f       0    2395           4101   \n",
       "1       0000ca043ed437a1472c9d1d154eb49b       0   13535           8253   \n",
       "2       0000d4835cf113316fe447e2f80ba1c8       0     123           4863   \n",
       "3       0000fcda1ae1b2f431e55a7075d1f500       0    8475           1652   \n",
       "4       000104bdffaaad1a1e0a9ebacf585f33       0      96             96   \n",
       "...                                  ...     ...     ...            ...   \n",
       "419265  ffffcd5bc19d62cad5a3815c87818d83       0   12230          10619   \n",
       "419266  ffffcd5bc19d62cad5a3815c87818d83       1   10619          10619   \n",
       "419267  ffffcd5bc19d62cad5a3815c87818d83       2   12230          10619   \n",
       "419268  fffffa7baf370083ebcdd98f26a7e31a       0    2439           2439   \n",
       "419269  fffffa7baf370083ebcdd98f26a7e31a       1   11822           2439   \n",
       "\n",
       "        target  max_seq_no  \n",
       "0        False           0  \n",
       "1        False           0  \n",
       "2        False           0  \n",
       "3        False           0  \n",
       "4         True           1  \n",
       "...        ...         ...  \n",
       "419265   False           2  \n",
       "419266    True           2  \n",
       "419267   False           2  \n",
       "419268    True           1  \n",
       "419269   False           1  \n",
       "\n",
       "[419270 rows x 6 columns]"
      ]
     },
     "execution_count": 4,
     "metadata": {},
     "output_type": "execute_result"
    }
   ],
   "source": [
    "# sessionごとに最大のseq_noを結合する\n",
    "train_log_max_seq_no = train_log_df.groupby(\"session_id\")[\"seq_no\"].max()\n",
    "train_log_max_seq_no.name = \"max_seq_no\"\n",
    "train_log_df = train_log_df.merge(train_log_max_seq_no, on=\"session_id\", how=\"left\")\n",
    "train_log_df"
   ]
  },
  {
   "cell_type": "code",
   "execution_count": 67,
   "metadata": {},
   "outputs": [
    {
     "data": {
      "text/plain": [
       "target\n",
       "False    326714\n",
       "True      92556\n",
       "dtype: int64"
      ]
     },
     "execution_count": 67,
     "metadata": {},
     "output_type": "execute_result"
    }
   ],
   "source": [
    "train_log_df.value_counts(\"target\")"
   ]
  },
  {
   "cell_type": "code",
   "execution_count": 68,
   "metadata": {},
   "outputs": [
    {
     "data": {
      "text/plain": [
       "max_seq_no\n",
       "0    185386\n",
       "1    165586\n",
       "2     46050\n",
       "3     16100\n",
       "4      4165\n",
       "5      1338\n",
       "6       455\n",
       "7       144\n",
       "8        36\n",
       "9        10\n",
       "dtype: int64"
      ]
     },
     "execution_count": 68,
     "metadata": {},
     "output_type": "execute_result"
    }
   ],
   "source": [
    "train_log_df.value_counts('max_seq_no')"
   ]
  },
  {
   "cell_type": "code",
   "execution_count": 69,
   "metadata": {},
   "outputs": [
    {
     "data": {
      "text/plain": [
       "False    141328\n",
       "True      92556\n",
       "Name: target, dtype: int64"
      ]
     },
     "execution_count": 69,
     "metadata": {},
     "output_type": "execute_result"
    }
   ],
   "source": [
    "train_log_df[train_log_df[\"max_seq_no\"] !=0].target.value_counts()"
   ]
  },
  {
   "cell_type": "code",
   "execution_count": 7,
   "metadata": {},
   "outputs": [
    {
     "name": "stdout",
     "output_type": "stream",
     "text": [
      "3\n"
     ]
    }
   ],
   "source": [
    "A = [1,1,1]\n",
    "print(len(A))"
   ]
  },
  {
   "cell_type": "code",
   "execution_count": 17,
   "metadata": {},
   "outputs": [
    {
     "data": {
      "text/plain": [
       "2    10418\n",
       "3     4932\n",
       "Name: yad_no, dtype: int64"
      ]
     },
     "execution_count": 17,
     "metadata": {},
     "output_type": "execute_result"
    }
   ],
   "source": [
    "train_log_df[train_log_df[\"max_seq_no\"] == 2].groupby(\"session_id\")['yad_no'].nunique().value_counts()"
   ]
  },
  {
   "cell_type": "code",
   "execution_count": 18,
   "metadata": {},
   "outputs": [
    {
     "data": {
      "text/plain": [
       "2    3250\n",
       "3     545\n",
       "4     230\n",
       "Name: yad_no, dtype: int64"
      ]
     },
     "execution_count": 18,
     "metadata": {},
     "output_type": "execute_result"
    }
   ],
   "source": [
    "train_log_df[train_log_df[\"max_seq_no\"] == 3].groupby(\"session_id\")['yad_no'].nunique().value_counts()"
   ]
  },
  {
   "cell_type": "code",
   "execution_count": 63,
   "metadata": {},
   "outputs": [
    {
     "data": {
      "text/plain": [
       "False    222\n",
       "True       1\n",
       "Name: target, dtype: int64"
      ]
     },
     "execution_count": 63,
     "metadata": {},
     "output_type": "execute_result"
    }
   ],
   "source": [
    "train_log_df[(train_log_df[\"max_seq_no\"] == 5) & (train_log_df['seq_no'] == 3)]['target'].value_counts()"
   ]
  },
  {
   "cell_type": "code",
   "execution_count": null,
   "metadata": {},
   "outputs": [],
   "source": []
  }
 ],
 "metadata": {
  "kernelspec": {
   "display_name": "base",
   "language": "python",
   "name": "python3"
  },
  "language_info": {
   "codemirror_mode": {
    "name": "ipython",
    "version": 3
   },
   "file_extension": ".py",
   "mimetype": "text/x-python",
   "name": "python",
   "nbconvert_exporter": "python",
   "pygments_lexer": "ipython3",
   "version": "3.7.12"
  }
 },
 "nbformat": 4,
 "nbformat_minor": 2
}
