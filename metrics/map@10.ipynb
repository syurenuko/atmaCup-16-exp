{
 "cells": [
  {
   "cell_type": "code",
   "execution_count": 1,
   "metadata": {},
   "outputs": [],
   "source": [
    "import numpy as np\n",
    "import pandas as pd"
   ]
  },
  {
   "cell_type": "code",
   "execution_count": null,
   "metadata": {},
   "outputs": [],
   "source": [
    "# CV計算\n",
    "def pk(y_true, y_pred, k):\n",
    "    \n",
    "    \"\"\"\n",
    "    単体のサンプルについてPrecision@kを計算する関数\n",
    "    \"\"\"\n",
    "    # kが0の場合は0を返す\n",
    "    if k == 0:\n",
    "        return 0\n",
    "    # 予測クラスのリストのうち、上位k個のみを利用\n",
    "    y_pred = y_pred[:k]\n",
    "    # 予測クラスをsetに変換して重複を排除\n",
    "    pred_set = set(y_pred)\n",
    "    # 正解クラスをsetに変換して重複を排除\n",
    "    true_set = set(y_true)\n",
    "    # 共通しているクラス数を計算\n",
    "    common_values = pred_set.intersection(true_set)\n",
    "    # kで割った値を返す\n",
    "    return len(common_values) / len(y_pred[:k])\n",
    "\n",
    "def apk(y_true, y_pred, k):\n",
    "    \n",
    "    \"\"\"\n",
    "    単体のサンプルについてAverage Precision@kを計算する関数\n",
    "    \n",
    "    \"\"\"\n",
    "    \n",
    "    # リストの初期化\n",
    "    pk_values = []\n",
    "    # 1からk+1までのkについてのループ\n",
    "    for i in range(1, k + 1):\n",
    "        # i番目のPrecision@iを計算してpk_valuesに追加\n",
    "        pk_values.append(pk(y_true, y_pred, i))\n",
    "        \n",
    "    # リストが空の場合、0を返す\n",
    "    if len(pk_values) == 0:\n",
    "        return 0\n",
    "    # リストの平均を返す\n",
    "    return sum(pk_values) / len(pk_values)\n",
    "\n",
    "def mapk(y_true, y_pred, k):\n",
    "    \"\"\"\n",
    "    Mean Average Precision@kを計算する関数\n",
    "    \n",
    "    \"\"\"\n",
    "    # リストの初期化\n",
    "    apk_values = []\n",
    "    # それぞれのサンプルについてのループ\n",
    "    for i in range(len(y_true)):\n",
    "        # apkを計算してapk_valuesに追加\n",
    "        apk_values.append(apk(y_true[i], y_pred[i], k))\n",
    "        \n",
    "    # リストの平均を計算して返す\n",
    "    return sum(apk_values) / len(apk_values)"
   ]
  }
 ],
 "metadata": {
  "kernelspec": {
   "display_name": "base",
   "language": "python",
   "name": "python3"
  },
  "language_info": {
   "codemirror_mode": {
    "name": "ipython",
    "version": 3
   },
   "file_extension": ".py",
   "mimetype": "text/x-python",
   "name": "python",
   "nbconvert_exporter": "python",
   "pygments_lexer": "ipython3",
   "version": "3.7.12"
  }
 },
 "nbformat": 4,
 "nbformat_minor": 2
}
